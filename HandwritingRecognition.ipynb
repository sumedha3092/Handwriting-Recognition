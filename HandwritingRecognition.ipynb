{
 "cells": [
  {
   "cell_type": "markdown",
   "id": "e34d531a",
   "metadata": {},
   "source": [
    "# Question1: Handwriting Recognition using Machine Learning!"
   ]
  },
  {
   "cell_type": "markdown",
   "id": "6aa9148a",
   "metadata": {},
   "source": [
    "Write and submit your python codes in “Jupyter Notebook” to perform the following tasks. Make sure to provide proper descriptions as MarkDown for each section of your code.\n",
    "\n",
    "A) Download the dataset “Digit” and its label from this link:  https://app.box.com/s/sogk96kukv6ayyyy6ym63a2nu3aozif7"
   ]
  },
  {
   "cell_type": "code",
   "execution_count": 78,
   "id": "ad65cafa",
   "metadata": {},
   "outputs": [],
   "source": [
    "import numpy as np\n",
    "import pandas as pd\n",
    "from sklearn.tree import DecisionTreeClassifier\n",
    "from sklearn.metrics import accuracy_score\n",
    "from sklearn.model_selection import train_test_split\n",
    "\n",
    "##url = 'https://app.box.com/s/sogk96kukv6ayyyy6ym63a2nu3aozif7/folder/126718588950'\n",
    "hd_recg = pd.read_csv('label.csv', error_bad_lines=False)\n"
   ]
  },
  {
   "cell_type": "code",
   "execution_count": 79,
   "id": "27e1d29b",
   "metadata": {},
   "outputs": [
    {
     "data": {
      "text/html": [
       "<div>\n",
       "<style scoped>\n",
       "    .dataframe tbody tr th:only-of-type {\n",
       "        vertical-align: middle;\n",
       "    }\n",
       "\n",
       "    .dataframe tbody tr th {\n",
       "        vertical-align: top;\n",
       "    }\n",
       "\n",
       "    .dataframe thead th {\n",
       "        text-align: right;\n",
       "    }\n",
       "</style>\n",
       "<table border=\"1\" class=\"dataframe\">\n",
       "  <thead>\n",
       "    <tr style=\"text-align: right;\">\n",
       "      <th></th>\n",
       "      <th>name of the file</th>\n",
       "      <th>digit label</th>\n",
       "    </tr>\n",
       "  </thead>\n",
       "  <tbody>\n",
       "    <tr>\n",
       "      <th>0</th>\n",
       "      <td>0</td>\n",
       "      <td>0</td>\n",
       "    </tr>\n",
       "    <tr>\n",
       "      <th>500</th>\n",
       "      <td>500</td>\n",
       "      <td>8</td>\n",
       "    </tr>\n",
       "    <tr>\n",
       "      <th>1000</th>\n",
       "      <td>1000</td>\n",
       "      <td>1</td>\n",
       "    </tr>\n",
       "    <tr>\n",
       "      <th>1500</th>\n",
       "      <td>1500</td>\n",
       "      <td>1</td>\n",
       "    </tr>\n",
       "  </tbody>\n",
       "</table>\n",
       "</div>"
      ],
      "text/plain": [
       "      name of the file  digit label\n",
       "0                    0            0\n",
       "500                500            8\n",
       "1000              1000            1\n",
       "1500              1500            1"
      ]
     },
     "execution_count": 79,
     "metadata": {},
     "output_type": "execute_result"
    }
   ],
   "source": [
    "hd_recg[0::500]"
   ]
  },
  {
   "cell_type": "code",
   "execution_count": 95,
   "id": "ad5dce2c",
   "metadata": {},
   "outputs": [
    {
     "data": {
      "image/png": "[encoded data removed]",
      "text/plain": [
       "<Figure size 432x288 with 1 Axes>"
      ]
     },
     "metadata": {
      "needs_background": "light"
     },
     "output_type": "display_data"
    },
    {
     "data": {
      "image/png": "[encoded data removed]",
      "text/plain": [
       "<Figure size 432x288 with 1 Axes>"
      ]
     },
     "metadata": {
      "needs_background": "light"
     },
     "output_type": "display_data"
    },
    {
     "data": {
      "image/png": "[encoded data removed]",
      "text/plain": [
       "<Figure size 432x288 with 1 Axes>"
      ]
     },
     "metadata": {
      "needs_background": "light"
     },
     "output_type": "display_data"
    },
    {
     "data": {
      "image/png": "[encoded data removed]",
      "text/plain": [
       "<Figure size 432x288 with 1 Axes>"
      ]
     },
     "metadata": {
      "needs_background": "light"
     },
     "output_type": "display_data"
    },
    {
     "data": {
      "image/png": "[encoded data removed]",
      "text/plain": [
       "<Figure size 432x288 with 1 Axes>"
      ]
     },
     "metadata": {
      "needs_background": "light"
     },
     "output_type": "display_data"
    },
    {
     "data": {
      "image/png": "[encoded data removed]",
      "text/plain": [
       "<Figure size 432x288 with 1 Axes>"
      ]
     },
     "metadata": {
      "needs_background": "light"
     },
     "output_type": "display_data"
    },
    {
     "data": {
      "image/png": "[encoded data removed]",
      "text/plain": [
       "<Figure size 432x288 with 1 Axes>"
      ]
     },
     "metadata": {
      "needs_background": "light"
     },
     "output_type": "display_data"
    }
   ],
   "source": [
    "import matplotlib.image as mpimg\n",
    "import matplotlib.pyplot as plt\n",
    "%matplotlib inline\n",
    "\n",
    "images = []\n",
    "for i in range(0,7):\n",
    "        images.append(mpimg.imread(\"C:/Users/sseeniv/Documents/DS assignment/Digit/Digit/\"+ str(i) + \".jpg\"))\n",
    "        plt.imshow(images[i],cmap=plt.cm.gray_r,interpolation='nearest')\n",
    "        plt.show()"
   ]
  },
  {
   "cell_type": "markdown",
   "id": "6cf3f779",
   "metadata": {},
   "source": [
    "B) Build the feature matrix and label vector: Each image is considered as a data sample with pixels as features. Thus, to build the feature table you have to convert each 8x8 image into an array of 64 elements (i.e. 64 pixels), and put it as a row of the feature matrix with 64 feature columns."
   ]
  },
  {
   "cell_type": "code",
   "execution_count": 94,
   "id": "8d217c0d",
   "metadata": {},
   "outputs": [],
   "source": [
    "import numpy as np \n",
    "import pandas as pd \n",
    "\n",
    "size = 1797\n",
    "feature = np.ones((size, 64))\n",
    "\n",
    "for i in range(size):\n",
    "    image_array = mpimg.imread(\"C:/Users/sseeniv/Documents/DS assignment/Digit/Digit/\"+ str(i)+ \".jpg\")\n",
    "    image_matx= image_array.flatten()\n",
    "    feature[i]=np.copy(image_matx)"
   ]
  },
  {
   "cell_type": "markdown",
   "id": "201b26c0",
   "metadata": {},
   "source": [
    "Feature Matrix and Target Vector"
   ]
  },
  {
   "cell_type": "code",
   "execution_count": 84,
   "id": "f37ab4e8",
   "metadata": {},
   "outputs": [],
   "source": [
    "X = feature.astype(int)  \n",
    "Y = hd_recg['digit label']"
   ]
  },
  {
   "cell_type": "code",
   "execution_count": 85,
   "id": "c0b9f409",
   "metadata": {},
   "outputs": [
    {
     "data": {
      "text/plain": [
       "array([[  0,   2,  88, ...,   0,   9,   2],\n",
       "       [  0,  11,   8, ...,  40,  14,   0],\n",
       "       [  9,   0,  57, ...,  57,   0,   9],\n",
       "       ...,\n",
       "       [  0,  36, 159, ..., 142,   0,   9],\n",
       "       [  0,  64, 215, ..., 170,  33,   0],\n",
       "       [  0,  12,  74, ...,  57,   0,   1]])"
      ]
     },
     "execution_count": 85,
     "metadata": {},
     "output_type": "execute_result"
    }
   ],
   "source": [
    "X[0::10]"
   ]
  },
  {
   "cell_type": "code",
   "execution_count": 89,
   "id": "daabb57d",
   "metadata": {},
   "outputs": [
    {
     "data": {
      "text/plain": [
       "0       0\n",
       "10      0\n",
       "20      0\n",
       "30      0\n",
       "40      8\n",
       "       ..\n",
       "1750    3\n",
       "1760    1\n",
       "1770    3\n",
       "1780    2\n",
       "1790    8\n",
       "Name: digit label, Length: 180, dtype: int64"
      ]
     },
     "execution_count": 89,
     "metadata": {},
     "output_type": "execute_result"
    }
   ],
   "source": [
    "Y[0::10]"
   ]
  },
  {
   "cell_type": "code",
   "execution_count": 87,
   "id": "142e0cb6",
   "metadata": {},
   "outputs": [
    {
     "name": "stdout",
     "output_type": "stream",
     "text": [
      "(1797, 64)\n",
      "(1797,)\n"
     ]
    }
   ],
   "source": [
    "print(X.shape)\n",
    "print(Y.shape)"
   ]
  },
  {
   "cell_type": "markdown",
   "id": "554c2e33",
   "metadata": {},
   "source": [
    "\n",
    "C) Use sklearn functions to split the dataset into testing and training sets with the following parameters: test_size=0.1, random_state=2.\n",
    "\n",
    " "
   ]
  },
  {
   "cell_type": "code",
   "execution_count": 88,
   "id": "436dd5c4",
   "metadata": {},
   "outputs": [],
   "source": [
    "from sklearn.model_selection import train_test_split\n",
    "X_train, X_test, y_train, y_test = train_test_split(X,Y,test_size=0.1, random_state=2) "
   ]
  },
  {
   "cell_type": "code",
   "execution_count": 59,
   "id": "631539fc",
   "metadata": {},
   "outputs": [
    {
     "name": "stdout",
     "output_type": "stream",
     "text": [
      "(1617, 64)\n",
      "(1617,)\n"
     ]
    }
   ],
   "source": [
    "print(X_train.shape)\n",
    "print(y_train.shape)"
   ]
  },
  {
   "cell_type": "code",
   "execution_count": 90,
   "id": "66e60664",
   "metadata": {},
   "outputs": [
    {
     "name": "stdout",
     "output_type": "stream",
     "text": [
      "(180, 64)\n",
      "(180,)\n"
     ]
    }
   ],
   "source": [
    "print(X_test.shape)\n",
    "print(y_test.shape)\n"
   ]
  },
  {
   "cell_type": "markdown",
   "id": "1a86ced2",
   "metadata": {},
   "source": [
    "D) Use scikit-learn “Random Forest” classifier to recognize the hand-written digits based on the training/testing datasets that you built in part (c). Use this command to import and define your classifier:\n",
    "\n",
    "from   sklearn.ensemble    import    RandomForestClassifier\n",
    "\n",
    "my_RandomForest =\n",
    "\n",
    "RandomForestClassifier(n_estimators = 19, bootstrap = True, random_state=2)\n",
    "\n",
    "Use my_RandomForest.fit for training your random forest classifier and my_RandomForest.predict  for prediction. Test your Machine Learning Algorithm on testing set (from part(c)), and calculate and report the accuracy.\n",
    "\n",
    " "
   ]
  },
  {
   "cell_type": "code",
   "execution_count": 91,
   "id": "9745cbbb",
   "metadata": {},
   "outputs": [
    {
     "name": "stdout",
     "output_type": "stream",
     "text": [
      "Random Forest: 0.9277777777777778\n"
     ]
    }
   ],
   "source": [
    "from  sklearn.ensemble import RandomForestClassifier\n",
    "\n",
    "my_RandomForest = RandomForestClassifier(n_estimators = 19, bootstrap = True, random_state=2)\n",
    "my_RandomForest.fit(X_train, y_train)\n",
    "y_predict_RandFt=my_RandomForest.predict(X_test)\n",
    "accuracy_RandFt=accuracy_score(y_test, y_predict_RandFt)\n",
    "print(\"Random Forest:\",accuracy_RandFt)\n"
   ]
  },
  {
   "cell_type": "markdown",
   "id": "51d15d2e",
   "metadata": {},
   "source": [
    " \n",
    "\n",
    "E) Write some codes to find which one of the data samples (i.e. which images) have been misclassified (classified incorrectly) in your testing set. Then, use the following command to show the misclassified images:    plt.imshow(image_name, cmap=plt.cm.gray_r, interpolation='nearest')  \n",
    "\n",
    " "
   ]
  },
  {
   "cell_type": "code",
   "execution_count": 92,
   "id": "6f70dcb4",
   "metadata": {},
   "outputs": [
    {
     "name": "stdout",
     "output_type": "stream",
     "text": [
      "Misclassified values\n",
      "(array([  4,  16,  41,  44,  45,  49,  63, 115, 130, 137, 165, 174, 179],\n",
      "      dtype=int64),)\n",
      "\n",
      "\n",
      "For 1660.jpg :-  Predicted number -  8  | Number on the image-  4\n",
      "For 1611.jpg :-  Predicted number -  7  | Number on the image-  4\n",
      "For 123.jpg :-  Predicted number -  1  | Number on the image-  8\n",
      "For 1582.jpg :-  Predicted number -  5  | Number on the image-  9\n",
      "For 492.jpg :-  Predicted number -  4  | Number on the image-  6\n",
      "For 1603.jpg :-  Predicted number -  7  | Number on the image-  3\n",
      "For 1628.jpg :-  Predicted number -  7  | Number on the image-  4\n",
      "For 1605.jpg :-  Predicted number -  2  | Number on the image-  3\n",
      "For 794.jpg :-  Predicted number -  1  | Number on the image-  8\n",
      "For 37.jpg :-  Predicted number -  5  | Number on the image-  9\n",
      "For 69.jpg :-  Predicted number -  7  | Number on the image-  9\n",
      "For 1468.jpg :-  Predicted number -  5  | Number on the image-  8\n",
      "For 1573.jpg :-  Predicted number -  4  | Number on the image-  0\n"
     ]
    }
   ],
   "source": [
    "from  sklearn.ensemble import RandomForestClassifier\n",
    "from sklearn.metrics import confusion_matrix\n",
    "\n",
    "import numpy as np\n",
    "\n",
    "clf = RandomForestClassifier()\n",
    "Result = []\n",
    "\n",
    "clf.fit(X_train, y_train)\n",
    "result = clf.predict(X_test)\n",
    "cm = confusion_matrix(y_test, result)\n",
    "\n",
    "y_test_Result = np.asarray(y_test)\n",
    "misclassified = np.where(y_test_Result != clf.predict(X_test))\n",
    "print(\"Misclassified values\")\n",
    "print(misclassified)\n",
    "print(\"\\n\")\n",
    "\n",
    "for i in range(int(y_test_Result.shape[0])):\n",
    "    if y_predict_RandFt[i] != y_test_Result[i]:\n",
    "        print(\"For\",str(y_test.index.values[i]) + \".jpg\", \":- \", \"Predicted number - \",y_predict_RandFt[i], \" |\" ,\"Number on the image- \", y_test_Result[i])\n",
    "        Result.append(y_test_Result[i])\n",
    "        "
   ]
  },
  {
   "cell_type": "code",
   "execution_count": 96,
   "id": "5cc80eb3",
   "metadata": {},
   "outputs": [
    {
     "name": "stdout",
     "output_type": "stream",
     "text": [
      "1660 .jpg\n"
     ]
    },
    {
     "data": {
      "image/png": "[encoded data removed]",
      "text/plain": [
       "<Figure size 432x288 with 1 Axes>"
      ]
     },
     "metadata": {
      "needs_background": "light"
     },
     "output_type": "display_data"
    },
    {
     "name": "stdout",
     "output_type": "stream",
     "text": [
      "1611 .jpg\n"
     ]
    },
    {
     "data": {
      "image/png": "[encoded data removed]",
      "text/plain": [
       "<Figure size 432x288 with 1 Axes>"
      ]
     },
     "metadata": {
      "needs_background": "light"
     },
     "output_type": "display_data"
    },
    {
     "name": "stdout",
     "output_type": "stream",
     "text": [
      "123 .jpg\n"
     ]
    },
    {
     "data": {
      "image/png": "[encoded data removed]",
      "text/plain": [
       "<Figure size 432x288 with 1 Axes>"
      ]
     },
     "metadata": {
      "needs_background": "light"
     },
     "output_type": "display_data"
    },
    {
     "name": "stdout",
     "output_type": "stream",
     "text": [
      "1582 .jpg\n"
     ]
    },
    {
     "data": {
      "image/png": "[encoded data removed]",
      "text/plain": [
       "<Figure size 432x288 with 1 Axes>"
      ]
     },
     "metadata": {
      "needs_background": "light"
     },
     "output_type": "display_data"
    },
    {
     "name": "stdout",
     "output_type": "stream",
     "text": [
      "492 .jpg\n"
     ]
    },
    {
     "data": {
      "image/png": "[encoded data removed]",
      "text/plain": [
       "<Figure size 432x288 with 1 Axes>"
      ]
     },
     "metadata": {
      "needs_background": "light"
     },
     "output_type": "display_data"
    },
    {
     "name": "stdout",
     "output_type": "stream",
     "text": [
      "1603 .jpg\n"
     ]
    },
    {
     "data": {
      "image/png": "[encoded data removed]",
      "text/plain": [
       "<Figure size 432x288 with 1 Axes>"
      ]
     },
     "metadata": {
      "needs_background": "light"
     },
     "output_type": "display_data"
    },
    {
     "name": "stdout",
     "output_type": "stream",
     "text": [
      "1628 .jpg\n"
     ]
    },
    {
     "data": {
      "image/png": "[encoded data removed]",
      "text/plain": [
       "<Figure size 432x288 with 1 Axes>"
      ]
     },
     "metadata": {
      "needs_background": "light"
     },
     "output_type": "display_data"
    },
    {
     "name": "stdout",
     "output_type": "stream",
     "text": [
      "794 .jpg\n"
     ]
    },
    {
     "data": {
      "image/png": "[encoded data removed]",
      "text/plain": [
       "<Figure size 432x288 with 1 Axes>"
      ]
     },
     "metadata": {
      "needs_background": "light"
     },
     "output_type": "display_data"
    },
    {
     "name": "stdout",
     "output_type": "stream",
     "text": [
      "37 .jpg\n"
     ]
    },
    {
     "data": {
      "image/png": "[encoded data removed]",
      "text/plain": [
       "<Figure size 432x288 with 1 Axes>"
      ]
     },
     "metadata": {
      "needs_background": "light"
     },
     "output_type": "display_data"
    },
    {
     "name": "stdout",
     "output_type": "stream",
     "text": [
      "69 .jpg\n"
     ]
    },
    {
     "data": {
      "image/png": "[encoded data removed]",
      "text/plain": [
       "<Figure size 432x288 with 1 Axes>"
      ]
     },
     "metadata": {
      "needs_background": "light"
     },
     "output_type": "display_data"
    },
    {
     "name": "stdout",
     "output_type": "stream",
     "text": [
      "1468 .jpg\n"
     ]
    },
    {
     "data": {
      "image/png": "[encoded data removed]",
      "text/plain": [
       "<Figure size 432x288 with 1 Axes>"
      ]
     },
     "metadata": {
      "needs_background": "light"
     },
     "output_type": "display_data"
    },
    {
     "name": "stdout",
     "output_type": "stream",
     "text": [
      "1573 .jpg\n"
     ]
    },
    {
     "data": {
      "image/png": "[encoded data removed]",
      "text/plain": [
       "<Figure size 432x288 with 1 Axes>"
      ]
     },
     "metadata": {
      "needs_background": "light"
     },
     "output_type": "display_data"
    },
    {
     "name": "stdout",
     "output_type": "stream",
     "text": [
      "1095 .jpg\n"
     ]
    },
    {
     "data": {
      "image/png": "[encoded data removed]",
      "text/plain": [
       "<Figure size 432x288 with 1 Axes>"
      ]
     },
     "metadata": {
      "needs_background": "light"
     },
     "output_type": "display_data"
    }
   ],
   "source": [
    "for m in misclassified[0]:\n",
    "    \n",
    "    Img=mpimg.imread(\"C:/Users/sseeniv/Documents/DS assignment/Digit/Digit/\"+str(y_test.index.values[m])+ \".jpg\")\n",
    "    snap=str(y_test.index.values[m])\n",
    "    print(snap,'.jpg')\n",
    "    plt.imshow(Img, cmap=plt.cm.gray_r, interpolation='nearest')\n",
    "    plt.show()"
   ]
  },
  {
   "cell_type": "code",
   "execution_count": null,
   "id": "3545fbbf",
   "metadata": {},
   "outputs": [],
   "source": []
  }
 ],
 "metadata": {
  "kernelspec": {
   "display_name": "Python 3",
   "language": "python",
   "name": "python3"
  },
  "language_info": {
   "codemirror_mode": {
    "name": "ipython",
    "version": 3
   },
   "file_extension": ".py",
   "mimetype": "text/x-python",
   "name": "python",
   "nbconvert_exporter": "python",
   "pygments_lexer": "ipython3",
   "version": "3.8.8"
  }
 },
 "nbformat": 4,
 "nbformat_minor": 5
}
